{
 "cells": [
  {
   "cell_type": "code",
   "execution_count": 2,
   "metadata": {},
   "outputs": [],
   "source": [
    "import os\n",
    "import numpy as np\n",
    "import tensorflow as tf\n",
    "from tensorflow import keras\n",
    "import pandas as pd\n",
    "import seaborn as sns\n",
    "from pylab import rcParams\n",
    "import matplotlib.pyplot as plt\n",
    "from matplotlib import rc\n",
    "from sklearn.model_selection import train_test_split\n",
    "from pandas.plotting import register_matplotlib_converters\n",
    "from sklearn.preprocessing import RobustScaler\n",
    "from sklearn.preprocessing import MinMaxScaler\n",
    "from sklearn.metrics import mean_squared_error\n",
    "\n",
    "\n",
    "%matplotlib inline\n",
    "%config InlineBackend.figure_format='retina'\n",
    "\n",
    "register_matplotlib_converters()\n",
    "sns.set(style='whitegrid', palette='muted', font_scale=1.5)\n",
    "\n",
    "rcParams['figure.figsize'] = 22, 10\n",
    "\n",
    "RANDOM_SEED = 42\n",
    "\n",
    "np.random.seed(RANDOM_SEED)\n",
    "tf.random.set_seed(RANDOM_SEED)"
   ]
  },
  {
   "cell_type": "code",
   "execution_count": 3,
   "metadata": {},
   "outputs": [
    {
     "name": "stdout",
     "output_type": "stream",
     "text": [
      "Number of rows and columns: (1447, 6)\n"
     ]
    },
    {
     "data": {
      "text/html": [
       "<div>\n",
       "<style scoped>\n",
       "    .dataframe tbody tr th:only-of-type {\n",
       "        vertical-align: middle;\n",
       "    }\n",
       "\n",
       "    .dataframe tbody tr th {\n",
       "        vertical-align: top;\n",
       "    }\n",
       "\n",
       "    .dataframe thead th {\n",
       "        text-align: right;\n",
       "    }\n",
       "</style>\n",
       "<table border=\"1\" class=\"dataframe\">\n",
       "  <thead>\n",
       "    <tr style=\"text-align: right;\">\n",
       "      <th></th>\n",
       "      <th>Open</th>\n",
       "      <th>High</th>\n",
       "      <th>Low</th>\n",
       "      <th>Close</th>\n",
       "      <th>Adj_Close</th>\n",
       "      <th>Volume</th>\n",
       "    </tr>\n",
       "    <tr>\n",
       "      <th>Date</th>\n",
       "      <th></th>\n",
       "      <th></th>\n",
       "      <th></th>\n",
       "      <th></th>\n",
       "      <th></th>\n",
       "      <th></th>\n",
       "    </tr>\n",
       "  </thead>\n",
       "  <tbody>\n",
       "    <tr>\n",
       "      <th>2015-02-01</th>\n",
       "      <td>27.847500</td>\n",
       "      <td>27.860001</td>\n",
       "      <td>26.837500</td>\n",
       "      <td>27.332500</td>\n",
       "      <td>24.941502</td>\n",
       "      <td>212818400</td>\n",
       "    </tr>\n",
       "    <tr>\n",
       "      <th>2015-05-01</th>\n",
       "      <td>27.072500</td>\n",
       "      <td>27.162500</td>\n",
       "      <td>26.352501</td>\n",
       "      <td>26.562500</td>\n",
       "      <td>24.238857</td>\n",
       "      <td>257142000</td>\n",
       "    </tr>\n",
       "    <tr>\n",
       "      <th>2015-06-01</th>\n",
       "      <td>26.635000</td>\n",
       "      <td>26.857500</td>\n",
       "      <td>26.157499</td>\n",
       "      <td>26.565001</td>\n",
       "      <td>24.241146</td>\n",
       "      <td>263188400</td>\n",
       "    </tr>\n",
       "    <tr>\n",
       "      <th>2015-07-01</th>\n",
       "      <td>26.799999</td>\n",
       "      <td>27.049999</td>\n",
       "      <td>26.674999</td>\n",
       "      <td>26.937500</td>\n",
       "      <td>24.581060</td>\n",
       "      <td>160423600</td>\n",
       "    </tr>\n",
       "    <tr>\n",
       "      <th>2015-08-01</th>\n",
       "      <td>27.307501</td>\n",
       "      <td>28.037500</td>\n",
       "      <td>27.174999</td>\n",
       "      <td>27.972500</td>\n",
       "      <td>25.525522</td>\n",
       "      <td>237458000</td>\n",
       "    </tr>\n",
       "  </tbody>\n",
       "</table>\n",
       "</div>"
      ],
      "text/plain": [
       "                 Open       High        Low      Close  Adj_Close     Volume\n",
       "Date                                                                        \n",
       "2015-02-01  27.847500  27.860001  26.837500  27.332500  24.941502  212818400\n",
       "2015-05-01  27.072500  27.162500  26.352501  26.562500  24.238857  257142000\n",
       "2015-06-01  26.635000  26.857500  26.157499  26.565001  24.241146  263188400\n",
       "2015-07-01  26.799999  27.049999  26.674999  26.937500  24.581060  160423600\n",
       "2015-08-01  27.307501  28.037500  27.174999  27.972500  25.525522  237458000"
      ]
     },
     "execution_count": 3,
     "metadata": {},
     "output_type": "execute_result"
    }
   ],
   "source": [
    "df = pd.read_csv(\"AAPL.csv\", parse_dates=['Date'], index_col=\"Date\")\n",
    "print('Number of rows and columns:', df.shape)\n",
    "df.head(5)"
   ]
  },
  {
   "cell_type": "markdown",
   "metadata": {},
   "source": [
    "## Preprocessing\n",
    "We’ll use the last 10% of the data for testing:"
   ]
  },
  {
   "cell_type": "code",
   "execution_count": 4,
   "metadata": {},
   "outputs": [
    {
     "data": {
      "text/html": [
       "<div>\n",
       "<style scoped>\n",
       "    .dataframe tbody tr th:only-of-type {\n",
       "        vertical-align: middle;\n",
       "    }\n",
       "\n",
       "    .dataframe tbody tr th {\n",
       "        vertical-align: top;\n",
       "    }\n",
       "\n",
       "    .dataframe thead th {\n",
       "        text-align: right;\n",
       "    }\n",
       "</style>\n",
       "<table border=\"1\" class=\"dataframe\">\n",
       "  <thead>\n",
       "    <tr style=\"text-align: right;\">\n",
       "      <th></th>\n",
       "      <th>Open</th>\n",
       "      <th>High</th>\n",
       "      <th>Low</th>\n",
       "      <th>Close</th>\n",
       "      <th>Adj_Close</th>\n",
       "      <th>Volume</th>\n",
       "    </tr>\n",
       "    <tr>\n",
       "      <th>Date</th>\n",
       "      <th></th>\n",
       "      <th></th>\n",
       "      <th></th>\n",
       "      <th></th>\n",
       "      <th></th>\n",
       "      <th></th>\n",
       "    </tr>\n",
       "  </thead>\n",
       "  <tbody>\n",
       "    <tr>\n",
       "      <th>2019-08-08</th>\n",
       "      <td>50.049999</td>\n",
       "      <td>50.882500</td>\n",
       "      <td>49.847500</td>\n",
       "      <td>50.857498</td>\n",
       "      <td>50.167248</td>\n",
       "      <td>108038000</td>\n",
       "    </tr>\n",
       "    <tr>\n",
       "      <th>2019-09-08</th>\n",
       "      <td>50.325001</td>\n",
       "      <td>50.689999</td>\n",
       "      <td>49.822498</td>\n",
       "      <td>50.247501</td>\n",
       "      <td>49.753849</td>\n",
       "      <td>98478800</td>\n",
       "    </tr>\n",
       "    <tr>\n",
       "      <th>2019-12-08</th>\n",
       "      <td>49.904999</td>\n",
       "      <td>50.512501</td>\n",
       "      <td>49.787498</td>\n",
       "      <td>50.119999</td>\n",
       "      <td>49.627602</td>\n",
       "      <td>89927600</td>\n",
       "    </tr>\n",
       "    <tr>\n",
       "      <th>2019-08-13</th>\n",
       "      <td>50.255001</td>\n",
       "      <td>53.035000</td>\n",
       "      <td>50.119999</td>\n",
       "      <td>52.242500</td>\n",
       "      <td>51.729252</td>\n",
       "      <td>188874000</td>\n",
       "    </tr>\n",
       "    <tr>\n",
       "      <th>2019-08-14</th>\n",
       "      <td>50.790001</td>\n",
       "      <td>51.610001</td>\n",
       "      <td>50.647499</td>\n",
       "      <td>50.687500</td>\n",
       "      <td>50.189526</td>\n",
       "      <td>146189600</td>\n",
       "    </tr>\n",
       "  </tbody>\n",
       "</table>\n",
       "</div>"
      ],
      "text/plain": [
       "                 Open       High        Low      Close  Adj_Close     Volume\n",
       "Date                                                                        \n",
       "2019-08-08  50.049999  50.882500  49.847500  50.857498  50.167248  108038000\n",
       "2019-09-08  50.325001  50.689999  49.822498  50.247501  49.753849   98478800\n",
       "2019-12-08  49.904999  50.512501  49.787498  50.119999  49.627602   89927600\n",
       "2019-08-13  50.255001  53.035000  50.119999  52.242500  51.729252  188874000\n",
       "2019-08-14  50.790001  51.610001  50.647499  50.687500  50.189526  146189600"
      ]
     },
     "execution_count": 4,
     "metadata": {},
     "output_type": "execute_result"
    }
   ],
   "source": [
    "train_size = int(len(df) * 0.8)\n",
    "test_size = len(df) - train_size\n",
    "train, test = df.iloc[0:train_size], df.iloc[train_size:len(df)]\n",
    "test[:5]"
   ]
  },
  {
   "cell_type": "markdown",
   "metadata": {},
   "source": [
    "And now we’ll scale some of the features we’re using for our modeling:"
   ]
  },
  {
   "cell_type": "code",
   "execution_count": 5,
   "metadata": {},
   "outputs": [
    {
     "name": "stdout",
     "output_type": "stream",
     "text": [
      "(1157, 6)\n"
     ]
    }
   ],
   "source": [
    "# scaler = MinMaxScaler()\n",
    "scaler = MinMaxScaler()\n",
    "train = scaler.fit_transform(train)\n",
    "test = scaler.transform(test)\n",
    "print(train.shape)"
   ]
  },
  {
   "cell_type": "code",
   "execution_count": 6,
   "metadata": {},
   "outputs": [
    {
     "data": {
      "text/plain": [
       "array([[0.1519392 , 0.13942175, 0.12743211, 0.13398718, 0.10571957,\n",
       "        0.27738933],\n",
       "       [0.12991902, 0.11974612, 0.11360562, 0.11225572, 0.08585242,\n",
       "        0.35084852],\n",
       "       [0.11748828, 0.11114245, 0.10804644, 0.1123263 , 0.08591714,\n",
       "        0.36086945],\n",
       "       ...,\n",
       "       [0.76708342, 0.75444282, 0.73487278, 0.72673387, 0.74861731,\n",
       "        0.27200895],\n",
       "       [0.75514985, 0.75035267, 0.74527826, 0.75255764, 0.77413758,\n",
       "        0.16217252],\n",
       "       [0.74875695, 0.76086034, 0.74371041, 0.76695115, 0.78836204,\n",
       "        0.14586166]])"
      ]
     },
     "execution_count": 6,
     "metadata": {},
     "output_type": "execute_result"
    }
   ],
   "source": [
    "train"
   ]
  },
  {
   "cell_type": "code",
   "execution_count": 5,
   "metadata": {},
   "outputs": [],
   "source": [
    "def create_dataset(X, time_steps=1):\n",
    "    Xs, ys = [], []\n",
    "    for i in range(len(X) - time_steps):\n",
    "        v = X[i:(i + time_steps)]\n",
    "        Xs.append(v)        \n",
    "        ys.append(X[i, 0])\n",
    "    return np.array(Xs), np.array(ys)"
   ]
  },
  {
   "cell_type": "code",
   "execution_count": 6,
   "metadata": {},
   "outputs": [
    {
     "name": "stdout",
     "output_type": "stream",
     "text": [
      "(1107, 50, 6) (1107,)\n"
     ]
    }
   ],
   "source": [
    "time_steps = 50\n",
    "\n",
    "# reshape to [samples, time_steps, n_features]\n",
    "\n",
    "X_train, y_train = create_dataset(train, time_steps)\n",
    "\n",
    "X_test, y_test = create_dataset(test, time_steps)\n",
    "\n",
    "print(X_train.shape, y_train.shape)"
   ]
  },
  {
   "cell_type": "code",
   "execution_count": 7,
   "metadata": {},
   "outputs": [
    {
     "name": "stdout",
     "output_type": "stream",
     "text": [
      "(1107,)\n"
     ]
    }
   ],
   "source": [
    "print(y_train.shape)"
   ]
  },
  {
   "cell_type": "code",
   "execution_count": 8,
   "metadata": {},
   "outputs": [
    {
     "name": "stdout",
     "output_type": "stream",
     "text": [
      "(240, 50, 6)\n"
     ]
    }
   ],
   "source": [
    "print(X_test.shape)"
   ]
  },
  {
   "cell_type": "code",
   "execution_count": 9,
   "metadata": {},
   "outputs": [],
   "source": [
    "model = keras.Sequential()\n",
    "\n",
    "#Adding the first LSTM layer and some Dropout regularisation\n",
    "model.add(keras.layers.LSTM(units=128, input_shape=(X_train.shape[1], X_train.shape[2])))\n",
    "model.add(keras.layers.Dropout(rate=0.2))\n",
    "# Adding the output layer\n",
    "model.add(keras.layers.Dense(units=6))\n",
    "\n",
    "# Compiling the RNN\n",
    "model.compile(loss='mean_squared_error', optimizer='adam')"
   ]
  },
  {
   "cell_type": "code",
   "execution_count": 10,
   "metadata": {},
   "outputs": [],
   "source": [
    "# Fitting the RNN to the Training set\n",
    "if(not os.path.exists('stockPrediction.h5')):\n",
    "    model.fit(X_train, y_train, epochs = 100, batch_size = 6956)\n",
    "    model.save('stockPrediction.h5')"
   ]
  },
  {
   "cell_type": "code",
   "execution_count": 11,
   "metadata": {},
   "outputs": [
    {
     "name": "stdout",
     "output_type": "stream",
     "text": [
      "(240, 50, 6)\n"
     ]
    }
   ],
   "source": [
    "# model = load_model('stockPrediction.h5')\n",
    "print(X_test.shape)\n",
    "predictions = model.predict(X_test)\n"
   ]
  },
  {
   "cell_type": "code",
   "execution_count": 15,
   "metadata": {},
   "outputs": [
    {
     "data": {
      "text/plain": [
       "array([ 3.5254322e+01,  2.3870678e+01,  2.0091444e+01,  2.1256184e+01,\n",
       "        2.8323803e+01, -8.6710950e+06], dtype=float32)"
      ]
     },
     "execution_count": 15,
     "metadata": {},
     "output_type": "execute_result"
    }
   ],
   "source": [
    "predictions = scaler.inverse_transform(predictions)\n",
    "predictions[0]"
   ]
  },
  {
   "cell_type": "code",
   "execution_count": 16,
   "metadata": {},
   "outputs": [
    {
     "data": {
      "text/plain": [
       "44.166473"
      ]
     },
     "execution_count": 16,
     "metadata": {},
     "output_type": "execute_result"
    }
   ],
   "source": [
    "predictions[189][0]"
   ]
  },
  {
   "cell_type": "code",
   "execution_count": 17,
   "metadata": {},
   "outputs": [
    {
     "data": {
      "text/plain": [
       "array([[ 3.5254322e+01,  2.3870678e+01,  2.0091444e+01,  2.1256184e+01,\n",
       "         2.8323803e+01, -8.6710950e+06],\n",
       "       [ 3.5312969e+01,  2.3828344e+01,  2.0064779e+01,  2.1222664e+01,\n",
       "         2.8363373e+01, -8.5740010e+06],\n",
       "       [ 3.5424683e+01,  2.3799185e+01,  2.0038120e+01,  2.1167679e+01,\n",
       "         2.8431965e+01, -8.3233490e+06],\n",
       "       ...,\n",
       "       [ 4.5750835e+01,  1.9523027e+01,  1.2111596e+01,  1.6226913e+01,\n",
       "         3.3876671e+01, -1.8517786e+07],\n",
       "       [ 4.5880173e+01,  1.9407221e+01,  1.1937804e+01,  1.6132452e+01,\n",
       "         3.3990116e+01, -1.5131732e+07],\n",
       "       [ 4.6004444e+01,  1.9494944e+01,  1.1952395e+01,  1.6086285e+01,\n",
       "         3.4116093e+01, -1.4585190e+07]], dtype=float32)"
      ]
     },
     "execution_count": 17,
     "metadata": {},
     "output_type": "execute_result"
    }
   ],
   "source": [
    "predictions"
   ]
  }
 ],
 "metadata": {
  "kernelspec": {
   "display_name": "Python 3",
   "language": "python",
   "name": "python3"
  },
  "language_info": {
   "codemirror_mode": {
    "name": "ipython",
    "version": 3
   },
   "file_extension": ".py",
   "mimetype": "text/x-python",
   "name": "python",
   "nbconvert_exporter": "python",
   "pygments_lexer": "ipython3",
   "version": "3.8.3"
  }
 },
 "nbformat": 4,
 "nbformat_minor": 4
}
